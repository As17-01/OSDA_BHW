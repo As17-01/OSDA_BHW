{
 "cells": [
  {
   "cell_type": "code",
   "execution_count": null,
   "metadata": {},
   "outputs": [],
   "source": [
    "import pandas as pd\n",
    "import pathlib\n",
    "import json\n",
    "from loguru import logger\n",
    "\n",
    "import optuna\n",
    "from catboost import CatBoostClassifier\n",
    "from xgboost import XGBClassifier\n",
    "from sklearn.dummy import DummyClassifier\n",
    "from sklearn.ensemble import RandomForestClassifier\n",
    "from sklearn.naive_bayes import GaussianNB\n",
    "from sklearn.neighbors import KNeighborsClassifier\n",
    "from sklearn.linear_model import LogisticRegression\n",
    "from sklearn.tree import DecisionTreeClassifier\n",
    "\n",
    "from sklearn.metrics import roc_auc_score\n",
    "from sklearn.model_selection import KFold\n",
    "\n",
    "from src.dataset import DatasetLoader\n",
    "from src.dataset import Dataset\n",
    "from src.pipeline import Pipeline\n",
    "from src.tuning import objective\n",
    "from src.formal_concept import FormalConcept\n",
    "\n",
    "import warnings\n",
    "\n",
    "warnings.filterwarnings(\"ignore\", message=\"is_categorical_dtype is deprecated\")\n",
    "warnings.filterwarnings(\"ignore\", message=\"is_sparse is deprecated\")"
   ]
  },
  {
   "cell_type": "code",
   "execution_count": null,
   "metadata": {},
   "outputs": [],
   "source": [
    "dataset = Dataset.heart\n",
    "n_trials = 20\n",
    "METRIC = roc_auc_score\n",
    "NUM_FOLDS = 5\n",
    "STATE = 101"
   ]
  },
  {
   "cell_type": "code",
   "execution_count": null,
   "metadata": {},
   "outputs": [],
   "source": [
    "data_loader = DatasetLoader(pathlib.Path(\"./datasets\"))\n",
    "\n",
    "data = data_loader.load_dataset(dataset)\n",
    "data, target = data.drop(columns=[\"target\"]), data[[\"target\"]]\n",
    "\n",
    "data.head(3)"
   ]
  },
  {
   "cell_type": "markdown",
   "metadata": {},
   "source": [
    "# 0. Fit models"
   ]
  },
  {
   "cell_type": "code",
   "execution_count": null,
   "metadata": {},
   "outputs": [],
   "source": [
    "model_params = {\n",
    "    \"CatBoost\": {\"silent\": True},\n",
    "    \"XGBoost\": {\"enable_categorical\": True},\n",
    "    \"KNN\": {},\n",
    "    \"RandomForest\": {},\n",
    "    \"LogRegression\": {\"max_iter\": 10000},\n",
    "    \"DecisionTree\": {},\n",
    "    \"FormalConcept\": {},\n",
    "}\n",
    "\n",
    "for model_name, params in model_params.items():\n",
    "    logger.info(f\"Model {model_name}\")\n",
    "\n",
    "    study = optuna.create_study(\n",
    "        direction=\"maximize\",\n",
    "        sampler=optuna.samplers.TPESampler(),\n",
    "        study_name=\"Choose models\",\n",
    "    )\n",
    "    logger.info(\"Start hyperparams optimization\")\n",
    "    study.optimize(\n",
    "        lambda trial: objective(trial, data, target, model_name),\n",
    "        catch=(Exception,),\n",
    "        gc_after_trial=True,\n",
    "        n_trials=n_trials,\n",
    "    )\n",
    "    params.update(study.best_params)\n",
    "    \n",
    "    with open(f\"checkpoints/{model_name}_best_params_{dataset.name}.json\", 'w') as output_file:\n",
    "        params_str = json.dumps(params, indent=2)\n",
    "        output_file.write(params_str)"
   ]
  },
  {
   "cell_type": "code",
   "execution_count": null,
   "metadata": {},
   "outputs": [],
   "source": [
    "fold_generator = KFold(n_splits=NUM_FOLDS, shuffle=True, random_state=STATE)\n",
    "\n",
    "models_dct = {\n",
    "    \"CatBoost\": CatBoostClassifier(**model_params[\"CatBoost\"]),\n",
    "    \"XGBoost\": XGBClassifier(**model_params[\"XGBoost\"]),\n",
    "    \"MostFrequent\": DummyClassifier(strategy=\"most_frequent\"),\n",
    "    \"KNN\": KNeighborsClassifier(**model_params[\"KNN\"]),\n",
    "    \"NaiveBayes\": GaussianNB(),\n",
    "    \"RandomForest\": RandomForestClassifier(**model_params[\"RandomForest\"]),\n",
    "    \"LogRegression\": LogisticRegression(**model_params[\"LogRegression\"]),\n",
    "    \"DecisionTree\": DecisionTreeClassifier(**model_params[\"DecisionTree\"]),\n",
    "    \"FormalConcept\": FormalConcept(**model_params[\"FormalConcept\"]),\n",
    "}"
   ]
  },
  {
   "cell_type": "code",
   "execution_count": null,
   "metadata": {},
   "outputs": [],
   "source": [
    "summary_list = []\n",
    "formal_concept_pipelines = []\n",
    "\n",
    "for model_name, model in models_dct.items():\n",
    "    logger.info(f\"Model: {model_name}\")\n",
    "    pipeline = Pipeline(base_model=model)\n",
    "\n",
    "    folds = fold_generator.split(data, y=target)\n",
    "    for i, (train_fold_idx, test_fold_idx) in enumerate(folds):\n",
    "        # logger.info(f\"Fold: {i + 1} / {NUM_FOLDS}\")\n",
    "\n",
    "        train_data, train_target = data.iloc[train_fold_idx], target.iloc[train_fold_idx]\n",
    "        test_data, test_target = data.iloc[test_fold_idx], target.iloc[test_fold_idx]\n",
    "        \n",
    "        pipeline.fit(train_data, train_target)\n",
    "        predictions = pipeline.predict_proba(test_data)[:, 1]\n",
    "\n",
    "        metric_value = METRIC(test_target, predictions)\n",
    "\n",
    "        result_dict = {\n",
    "            \"fold\": i,\n",
    "            \"model\": model_name,\n",
    "            \"metric_value\": metric_value\n",
    "        }\n",
    "        summary_list.append(result_dict)\n",
    "\n",
    "        if model_name == \"FormalConcept\":\n",
    "            formal_concept_pipelines.append(pipeline)\n",
    "\n",
    "summary = pd.DataFrame.from_records(summary_list)\n",
    "summary.columns = [\"fold\", \"model\", \"ROC AUC\"]\n",
    "\n",
    "summary"
   ]
  },
  {
   "cell_type": "markdown",
   "metadata": {},
   "source": [
    "# 1. Visualizations"
   ]
  },
  {
   "cell_type": "code",
   "execution_count": null,
   "metadata": {},
   "outputs": [],
   "source": [
    "from fcapy.visualizer import LineVizNx\n",
    "import matplotlib.pyplot as plt\n",
    "\n",
    "import neural_fca_example.neural_lib as nl"
   ]
  },
  {
   "cell_type": "code",
   "execution_count": null,
   "metadata": {},
   "outputs": [],
   "source": [
    "cn = formal_concept_pipelines[0]\n",
    "\n",
    "vis = LineVizNx(node_label_font_size=14, node_label_func=lambda el_i, P: nl.neuron_label_func(el_i, P, set(cn.attributes))+'\\n\\n')\n",
    "\n",
    "vis.init_mover_per_poset(cn.poset)\n",
    "mvr = vis.mover\n",
    "for a, b in [(11, 15), (2, 3), (2,8), (2, 4), (4,5), (24, 26), (22, 26), (23, 25), (22, 24), (6, 7), ]:\n",
    "    mvr.swap_nodes(a, b)\n",
    "\n",
    "for nodes, vert in [\n",
    "    ([19, 18], 0), ([23, 22], 5), ([14, 21,20], 1), ([13, 24, 25], 6), ([26], 7), ([9, 15], 8)\n",
    "]:\n",
    "    for a in nodes:\n",
    "        mvr.place_node(a, mvr.posx[vert])\n"
   ]
  },
  {
   "cell_type": "code",
   "execution_count": null,
   "metadata": {},
   "outputs": [],
   "source": [
    "fig, ax = plt.subplots(figsize=(15,5))\n",
    "\n",
    "vis.draw_poset(\n",
    "    cn.poset, ax=ax,\n",
    "    flg_node_indices=False,\n",
    "    node_label_func=lambda el_i, P: nl.neuron_label_func(el_i, P, set(cn.attributes), only_new_attrs=True)+'\\n\\n',\n",
    "    node_color=['lightgray']\n",
    ")\n",
    "plt.title(f'NN based on 7 best concepts from monotone concept lattice', loc='left', x=0.05, size=24)\n",
    "\n",
    "plt.subplots_adjust()\n",
    "plt.tight_layout()\n",
    "plt.show()"
   ]
  },
  {
   "cell_type": "code",
   "execution_count": null,
   "metadata": {},
   "outputs": [],
   "source": [
    "edge_weights = cn.edge_weights_from_network()\n",
    "\n",
    "import networkx as nx\n",
    "\n",
    "fig, ax = plt.subplots(figsize=(15,5))\n",
    "\n",
    "vis.draw_poset(\n",
    "    cn.poset, ax=ax,\n",
    "    flg_node_indices=False,\n",
    "    node_label_func=lambda el_i, P: nl.neuron_label_func(el_i, P, set(cn.attributes), only_new_attrs=True)+'\\n\\n',\n",
    "    edge_color=[edge_weights[edge] for edge in cn.poset.to_networkx().edges],\n",
    "    edge_cmap=plt.cm.RdBu,\n",
    ")\n",
    "nx.draw_networkx_edge_labels(cn.poset.to_networkx(), vis.mover.pos, {k: f\"{v:.1f}\" for k,v in edge_weights.items()}, label_pos=0.7)\n",
    "\n",
    "plt.title('Neural network with fitted edge weights', size=24, x=0.05, loc='left')\n",
    "plt.tight_layout()\n",
    "plt.subplots_adjust()\n",
    "plt.savefig('fitted_network.png')\n",
    "plt.show()"
   ]
  },
  {
   "cell_type": "code",
   "execution_count": null,
   "metadata": {},
   "outputs": [],
   "source": []
  }
 ],
 "metadata": {
  "kernelspec": {
   "display_name": "Python 3",
   "language": "python",
   "name": "python3"
  },
  "language_info": {
   "codemirror_mode": {
    "name": "ipython",
    "version": 3
   },
   "file_extension": ".py",
   "mimetype": "text/x-python",
   "name": "python",
   "nbconvert_exporter": "python",
   "pygments_lexer": "ipython3",
   "version": "3.10.13"
  },
  "orig_nbformat": 4
 },
 "nbformat": 4,
 "nbformat_minor": 2
}
