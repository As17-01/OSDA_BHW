{
 "cells": [
  {
   "cell_type": "code",
   "execution_count": null,
   "metadata": {},
   "outputs": [],
   "source": [
    "import pandas as pd\n",
    "import pathlib\n",
    "import json\n",
    "from loguru import logger\n",
    "\n",
    "import optuna\n",
    "from catboost import CatBoostClassifier\n",
    "from xgboost import XGBClassifier\n",
    "from sklearn.dummy import DummyClassifier\n",
    "from sklearn.ensemble import RandomForestClassifier\n",
    "from sklearn.naive_bayes import GaussianNB\n",
    "from sklearn.neighbors import KNeighborsClassifier\n",
    "from sklearn.linear_model import LogisticRegression\n",
    "from sklearn.tree import DecisionTreeClassifier\n",
    "\n",
    "from sklearn.metrics import roc_auc_score\n",
    "from sklearn.model_selection import KFold\n",
    "\n",
    "from src.dataset import DatasetLoader\n",
    "from src.dataset import Dataset\n",
    "from src.pipeline import Pipeline\n",
    "from src.tuning import objective\n",
    "from src.formal_concept import FormalConcept\n",
    "\n",
    "import warnings\n",
    "\n",
    "warnings.filterwarnings(\"ignore\", message=\"is_categorical_dtype is deprecated\")\n",
    "warnings.filterwarnings(\"ignore\", message=\"is_sparse is deprecated\")"
   ]
  },
  {
   "cell_type": "code",
   "execution_count": null,
   "metadata": {},
   "outputs": [],
   "source": [
    "dataset = Dataset.heart\n",
    "n_trials = 1\n",
    "METRIC = roc_auc_score\n",
    "NUM_FOLDS = 5\n",
    "STATE = 101"
   ]
  },
  {
   "cell_type": "code",
   "execution_count": null,
   "metadata": {},
   "outputs": [],
   "source": [
    "data_loader = DatasetLoader(pathlib.Path(\"./datasets\"))\n",
    "\n",
    "data = data_loader.load_dataset(dataset)\n",
    "data, target = data.drop(columns=[\"target\"]), data[[\"target\"]]\n",
    "\n",
    "data.head(3)"
   ]
  },
  {
   "cell_type": "code",
   "execution_count": null,
   "metadata": {},
   "outputs": [],
   "source": [
    "model_params = {\n",
    "    \"CatBoost\": {\"silent\": True},\n",
    "    \"XGBoost\": {\"enable_categorical\": True},\n",
    "    \"KNN\": {},\n",
    "    \"RandomForest\": {},\n",
    "    \"LogRegression\": {\"max_iter\": 10000},\n",
    "    \"DecisionTree\": {},\n",
    "    \"FormalConcept\": {},\n",
    "}\n",
    "\n",
    "for model_name, params in model_params.items():\n",
    "    logger.info(f\"Model {model_name}\")\n",
    "\n",
    "    study = optuna.create_study(\n",
    "        direction=\"maximize\",\n",
    "        sampler=optuna.samplers.TPESampler(),\n",
    "        study_name=\"Choose models\",\n",
    "    )\n",
    "    logger.info(\"Start hyperparams optimization\")\n",
    "    study.optimize(\n",
    "        lambda trial: objective(trial, data, target, model_name),\n",
    "        catch=(Exception,),\n",
    "        gc_after_trial=True,\n",
    "        n_trials=n_trials,\n",
    "    )\n",
    "    params.update(study.best_params)\n",
    "    \n",
    "    with open(f\"checkpoints/{model_name}_best_params_{dataset.name}.json\", 'w') as output_file:\n",
    "        params_str = json.dumps(params, indent=2)\n",
    "        output_file.write(params_str)"
   ]
  },
  {
   "cell_type": "code",
   "execution_count": null,
   "metadata": {},
   "outputs": [],
   "source": [
    "fold_generator = KFold(n_splits=NUM_FOLDS, shuffle=True, random_state=STATE)\n",
    "\n",
    "models_dct = {\n",
    "    \"CatBoost\": CatBoostClassifier(**model_params[\"CatBoost\"]),\n",
    "    \"XGBoost\": XGBClassifier(**model_params[\"XGBoost\"]),\n",
    "    \"MostFrequent\": DummyClassifier(strategy=\"most_frequent\"),\n",
    "    \"KNN\": KNeighborsClassifier(**model_params[\"KNN\"]),\n",
    "    \"NaiveBayes\": GaussianNB(),\n",
    "    \"RandomForest\": RandomForestClassifier(**model_params[\"RandomForest\"]),\n",
    "    \"LogRegression\": LogisticRegression(**model_params[\"LogRegression\"]),\n",
    "    \"DecisionTree\": DecisionTreeClassifier(**model_params[\"DecisionTree\"]),\n",
    "    \"FormalConcept\": FormalConcept(**model_params[\"FormalConcept\"]),\n",
    "}"
   ]
  },
  {
   "cell_type": "code",
   "execution_count": null,
   "metadata": {},
   "outputs": [],
   "source": [
    "summary_list = []\n",
    "\n",
    "for model_name, model in models_dct.items():\n",
    "    logger.info(f\"Model: {model_name}\")\n",
    "    pipeline = Pipeline(base_model=model)\n",
    "\n",
    "    folds = fold_generator.split(data, y=target)\n",
    "    for i, (train_fold_idx, test_fold_idx) in enumerate(folds):\n",
    "        # logger.info(f\"Fold: {i + 1} / {NUM_FOLDS}\")\n",
    "\n",
    "        train_data, train_target = data.iloc[train_fold_idx], target.iloc[train_fold_idx]\n",
    "        test_data, test_target = data.iloc[test_fold_idx], target.iloc[test_fold_idx]\n",
    "        \n",
    "        pipeline.fit(train_data, train_target)\n",
    "        predictions = pipeline.predict_proba(test_data)[:, 1]\n",
    "\n",
    "        metric_value = METRIC(test_target, predictions)\n",
    "\n",
    "        result_dict = {\n",
    "            \"fold\": i,\n",
    "            \"model\": model_name,\n",
    "            \"metric_value\": metric_value\n",
    "        }\n",
    "        summary_list.append(result_dict)\n",
    "\n",
    "summary = pd.DataFrame.from_records(summary_list)\n",
    "summary.columns = [\"fold\", \"model\", \"ROC AUC\"]\n",
    "\n",
    "summary"
   ]
  },
  {
   "cell_type": "code",
   "execution_count": null,
   "metadata": {},
   "outputs": [],
   "source": []
  }
 ],
 "metadata": {
  "kernelspec": {
   "display_name": "Python 3",
   "language": "python",
   "name": "python3"
  },
  "language_info": {
   "codemirror_mode": {
    "name": "ipython",
    "version": 3
   },
   "file_extension": ".py",
   "mimetype": "text/x-python",
   "name": "python",
   "nbconvert_exporter": "python",
   "pygments_lexer": "ipython3",
   "version": "3.10.13"
  },
  "orig_nbformat": 4
 },
 "nbformat": 4,
 "nbformat_minor": 2
}
